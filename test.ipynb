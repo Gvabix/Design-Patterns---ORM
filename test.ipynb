{
 "cells": [
  {
   "cell_type": "code",
   "execution_count": 1,
   "id": "659f2874-8589-49d7-b711-c11f05831972",
   "metadata": {},
   "outputs": [],
   "source": [
    "from database import DatabaseFacade\n",
    "from decorators import table, ColumnFactory\n",
    "from model import Record\n",
    "from crud import CommandInvoker"
   ]
  },
  {
   "cell_type": "code",
   "execution_count": 2,
   "id": "94091488-fb07-46a8-ba2f-e09fd455fa14",
   "metadata": {},
   "outputs": [],
   "source": [
    "db_facade = DatabaseFacade()\n",
    "db_facade.configure(\"db_test.db\")\n",
    "connection = db_facade.connect()\n",
    "invoker = CommandInvoker()"
   ]
  },
  {
   "cell_type": "code",
   "execution_count": 3,
   "id": "011b663f-9f06-4647-bc05-182f38575115",
   "metadata": {},
   "outputs": [],
   "source": [
    "@table(\"users\")\n",
    "class User(Record):\n",
    "    @ColumnFactory.create_integer_column(\"id\", primary_key=True)\n",
    "    def id(self): pass\n",
    "\n",
    "    @ColumnFactory.create_string_column(\"name\", length=50, not_null=True)\n",
    "    def name(self): pass\n",
    "\n",
    "    @ColumnFactory.create_string_column(\"email\", length=100, not_null=True)\n",
    "    def email(self): pass\n",
    "\n",
    "    @ColumnFactory.create_boolean_column(\"is_active\", default=True)\n",
    "    def is_active(self): pass"
   ]
  },
  {
   "cell_type": "code",
   "execution_count": 4,
   "id": "93d61b90-cf42-49cf-b686-26cd4921063d",
   "metadata": {},
   "outputs": [],
   "source": [
    "@table(\"products\")\n",
    "class Product(Record):\n",
    "    @ColumnFactory.create_integer_column(\"id\", primary_key=True)\n",
    "    def id(self): pass\n",
    "\n",
    "    @ColumnFactory.create_string_column(\"name\", length=100, not_null=True)\n",
    "    def name(self): pass\n",
    "\n",
    "    @ColumnFactory.create_float_column(\"price\", not_null=True)\n",
    "    def price(self): pass\n",
    "\n",
    "    @ColumnFactory.create_boolean_column(\"in_stock\", default=True)\n",
    "    def in_stock(self): pass"
   ]
  },
  {
   "cell_type": "code",
   "execution_count": 5,
   "id": "05fdf255-5750-45d8-9887-b1643d00f8ba",
   "metadata": {},
   "outputs": [],
   "source": [
    "User.configure(connection, invoker)\n",
    "User.create_table_in_db(db_facade)\n",
    "\n",
    "Product.configure(connection, invoker)\n",
    "Product.create_table_in_db(db_facade)"
   ]
  },
  {
   "cell_type": "code",
   "execution_count": 6,
   "id": "aa871261-ec86-4870-a9f9-240fde82cd4e",
   "metadata": {},
   "outputs": [],
   "source": [
    "user1 = User(name=\"Alice\", email=\"alice@example.com\")\n",
    "user2 = User(name=\"Bob\", email=\"bob@example.com\", is_active=False)\n",
    "user1.save()\n",
    "user2.save()\n",
    "\n",
    "product1 = Product(name=\"Laptop\", price=1200.50)\n",
    "product2 = Product(name=\"Mouse\", price=25.99, in_stock=False)\n",
    "product1.save()\n",
    "product2.save()"
   ]
  },
  {
   "cell_type": "code",
   "execution_count": 7,
   "id": "6a40bd60-e61e-423b-ac2f-0ced7f224cbb",
   "metadata": {},
   "outputs": [
    {
     "name": "stdout",
     "output_type": "stream",
     "text": [
      "Select names:\n",
      "<User (name=Alice)>\n",
      "<User (name=Bob)>\n"
     ]
    }
   ],
   "source": [
    "print(\"Select names:\")\n",
    "users_names = User.select(\"name\").execute()\n",
    "for name in users_names:\n",
    "    print(str(name))"
   ]
  },
  {
   "cell_type": "code",
   "execution_count": 9,
   "id": "9e601857-7cb5-4e6a-8219-d0a45dd43d9b",
   "metadata": {},
   "outputs": [
    {
     "name": "stdout",
     "output_type": "stream",
     "text": [
      "Select everything:\n",
      "+------+--------+-------------------+-------------+\n",
      "|   id | name   | email             |   is_active |\n",
      "+======+========+===================+=============+\n",
      "|    1 | Alice  | alice@example.com |           1 |\n",
      "+------+--------+-------------------+-------------+\n",
      "|    2 | Bob    | bob@example.com   |           0 |\n",
      "+------+--------+-------------------+-------------+\n"
     ]
    }
   ],
   "source": [
    "print(\"Select everything:\")\n",
    "users = User.select().execute()\n",
    "\n",
    "print(User.as_table(users))"
   ]
  },
  {
   "cell_type": "code",
   "execution_count": 10,
   "id": "87de6128-d343-42a5-b05f-4cb6d4cf4fa7",
   "metadata": {},
   "outputs": [
    {
     "name": "stdout",
     "output_type": "stream",
     "text": [
      "+------+--------+---------+------------+\n",
      "|   id | name   |   price |   in_stock |\n",
      "+======+========+=========+============+\n",
      "|    1 | Laptop |  1200.5 |          1 |\n",
      "+------+--------+---------+------------+\n"
     ]
    }
   ],
   "source": [
    "products_in_stock = Product.select().where(\"in_stock = TRUE\").execute()\n",
    "\n",
    "print(Product.as_table(products_in_stock))"
   ]
  },
  {
   "cell_type": "code",
   "execution_count": 11,
   "id": "7dde289e-6db1-442c-b9ef-a33161638dbb",
   "metadata": {},
   "outputs": [
    {
     "name": "stdout",
     "output_type": "stream",
     "text": [
      "After changing Alice's email:\n",
      "+------+--------+-----------------+-------------+\n",
      "|   id | name   | email           |   is_active |\n",
      "+======+========+=================+=============+\n",
      "|    1 | Alice  | alice@gmail.com |           1 |\n",
      "+------+--------+-----------------+-------------+\n",
      "|    2 | Bob    | bob@example.com |           0 |\n",
      "+------+--------+-----------------+-------------+\n"
     ]
    }
   ],
   "source": [
    "user1.email = \"alice@gmail.com\"\n",
    "user1.save()\n",
    "\n",
    "print(\"After changing Alice's email:\")\n",
    "users = User.select().execute()\n",
    "\n",
    "print(User.as_table(users))"
   ]
  },
  {
   "cell_type": "code",
   "execution_count": 12,
   "id": "e4397529-57b9-4dab-bcf4-ea445057d132",
   "metadata": {},
   "outputs": [
    {
     "name": "stdout",
     "output_type": "stream",
     "text": [
      "After deleting Alice ):\n",
      "+------+--------+-----------------+-------------+\n",
      "|   id | name   | email           |   is_active |\n",
      "+======+========+=================+=============+\n",
      "|    2 | Bob    | bob@example.com |           0 |\n",
      "+------+--------+-----------------+-------------+\n"
     ]
    }
   ],
   "source": [
    "user1.delete()\n",
    "\n",
    "print(\"After deleting Alice ):\")\n",
    "\n",
    "users = User.select().execute()\n",
    "\n",
    "print(User.as_table(users))"
   ]
  }
 ],
 "metadata": {
  "kernelspec": {
   "display_name": "Python 3 (ipykernel)",
   "language": "python",
   "name": "python3"
  },
  "language_info": {
   "codemirror_mode": {
    "name": "ipython",
    "version": 3
   },
   "file_extension": ".py",
   "mimetype": "text/x-python",
   "name": "python",
   "nbconvert_exporter": "python",
   "pygments_lexer": "ipython3",
   "version": "3.12.1"
  }
 },
 "nbformat": 4,
 "nbformat_minor": 5
}
